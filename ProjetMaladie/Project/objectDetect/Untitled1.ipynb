{
 "cells": [
  {
   "cell_type": "code",
   "execution_count": 4,
   "id": "d66cbdd0-1d35-45a1-909d-96a81258bd1d",
   "metadata": {},
   "outputs": [
    {
     "name": "stdout",
     "output_type": "stream",
     "text": [
      "OK\n"
     ]
    }
   ],
   "source": [
    "import matplotlib.pyplot as plt\n",
    "import tensorflow as tf\n",
    "import numpy as np\n",
    "\n",
    "print(\"OK\")"
   ]
  },
  {
   "cell_type": "code",
   "execution_count": null,
   "id": "c0234d6b-1a7a-4d7b-a325-e179b80cd832",
   "metadata": {},
   "outputs": [],
   "source": []
  },
  {
   "cell_type": "code",
   "execution_count": 3,
   "id": "32277b56-501c-4873-a46a-ee54f0d4db57",
   "metadata": {
    "tags": []
   },
   "outputs": [
    {
     "name": "stdout",
     "output_type": "stream",
     "text": [
      "OK\n"
     ]
    }
   ],
   "source": [
    "import matplotlib.pyplot as plt\n",
    "import tensorflow as tf\n",
    "import numpy as np\n",
    "\n",
    "print(\"OK\")"
   ]
  },
  {
   "cell_type": "code",
   "execution_count": null,
   "id": "3d973ec1-5517-4499-bebc-6065a2b57a7e",
   "metadata": {},
   "outputs": [],
   "source": []
  },
  {
   "cell_type": "code",
   "execution_count": null,
   "id": "142123ea-6f78-41de-8d5e-db04f47dbcf0",
   "metadata": {},
   "outputs": [],
   "source": []
  },
  {
   "cell_type": "code",
   "execution_count": null,
   "id": "083884b0-d02c-431b-9ff3-8a9261e29736",
   "metadata": {},
   "outputs": [],
   "source": []
  },
  {
   "cell_type": "code",
   "execution_count": null,
   "id": "54ba02d4-82a6-4a16-af5d-4c5e46ceb39a",
   "metadata": {},
   "outputs": [],
   "source": []
  },
  {
   "cell_type": "code",
   "execution_count": null,
   "id": "5d5b27b3-1339-4fe3-9e05-911488ed6e23",
   "metadata": {},
   "outputs": [],
   "source": []
  },
  {
   "cell_type": "code",
   "execution_count": null,
   "id": "48474402-2461-4968-80c5-7e3184d978f4",
   "metadata": {},
   "outputs": [],
   "source": []
  },
  {
   "cell_type": "code",
   "execution_count": null,
   "id": "78aac4bf-efca-4cb7-aa92-5625c282f164",
   "metadata": {},
   "outputs": [],
   "source": []
  },
  {
   "cell_type": "code",
   "execution_count": 6,
   "id": "3cbf8f46-6c19-4eed-95ef-d2255c7fad7f",
   "metadata": {},
   "outputs": [
    {
     "name": "stdout",
     "output_type": "stream",
     "text": [
      "Name: Pillow\n",
      "Version: 9.2.0\n",
      "Summary: Python Imaging Library (Fork)\n",
      "Home-page: https://python-pillow.org\n",
      "Author: Alex Clark (PIL Fork Author)\n",
      "Author-email: aclark@python-pillow.org\n",
      "License: HPND\n",
      "Location: c:\\users\\yabakar\\anaconda3\\envs\\env_deeplearning\\lib\\site-packages\n",
      "Requires: \n",
      "Required-by: matplotlib\n",
      "Note: you may need to restart the kernel to use updated packages.\n"
     ]
    }
   ],
   "source": [
    "pip show pillow"
   ]
  },
  {
   "cell_type": "code",
   "execution_count": 7,
   "id": "cc2bb4ba-bae2-442b-a961-f5cc0dc9a1fd",
   "metadata": {},
   "outputs": [
    {
     "name": "stdout",
     "output_type": "stream",
     "text": [
      "Name: tensorflow\n",
      "Version: 2.8.2\n",
      "Summary: TensorFlow is an open source machine learning framework for everyone.\n",
      "Home-page: https://www.tensorflow.org/\n",
      "Author: Google Inc.\n",
      "Author-email: packages@tensorflow.org\n",
      "License: Apache 2.0\n",
      "Location: c:\\users\\yabakar\\anaconda3\\envs\\env_deeplearning\\lib\\site-packages\n",
      "Requires: absl-py, astunparse, flatbuffers, gast, google-pasta, grpcio, h5py, keras, keras-preprocessing, libclang, numpy, opt-einsum, protobuf, setuptools, six, tensorboard, tensorflow-estimator, tensorflow-io-gcs-filesystem, termcolor, typing-extensions, wrapt\n",
      "Required-by: \n",
      "Note: you may need to restart the kernel to use updated packages.\n"
     ]
    }
   ],
   "source": [
    "pip show tensorflow"
   ]
  },
  {
   "cell_type": "code",
   "execution_count": 8,
   "id": "e5ec422b-0f25-4312-85a7-ff42ea302f5e",
   "metadata": {},
   "outputs": [
    {
     "name": "stdout",
     "output_type": "stream",
     "text": [
      "Name: numpy\n",
      "Version: 1.23.1\n",
      "Summary: NumPy is the fundamental package for array computing with Python.\n",
      "Home-page: https://www.numpy.org\n",
      "Author: Travis E. Oliphant et al.\n",
      "Author-email: \n",
      "License: BSD\n",
      "Location: c:\\users\\yabakar\\anaconda3\\envs\\env_deeplearning\\lib\\site-packages\n",
      "Requires: \n",
      "Required-by: h5py, Keras-Preprocessing, matplotlib, mkl-fft, mkl-random, opt-einsum, scipy, tensorboard, tensorflow\n",
      "Note: you may need to restart the kernel to use updated packages.\n"
     ]
    }
   ],
   "source": [
    "pip show Numpy"
   ]
  },
  {
   "cell_type": "code",
   "execution_count": null,
   "id": "f486bdab-2b9c-4416-98f7-9c5e8a5fbef1",
   "metadata": {},
   "outputs": [],
   "source": []
  },
  {
   "cell_type": "code",
   "execution_count": null,
   "id": "d2f00869-1feb-43b5-91d3-65ff8b210e76",
   "metadata": {},
   "outputs": [],
   "source": []
  },
  {
   "cell_type": "code",
   "execution_count": null,
   "id": "f2aeb414-2e47-416a-8dbb-a02698324358",
   "metadata": {},
   "outputs": [],
   "source": []
  },
  {
   "cell_type": "code",
   "execution_count": null,
   "id": "7782120f-240f-4c38-b2dc-f0d89b06fa30",
   "metadata": {},
   "outputs": [],
   "source": []
  },
  {
   "cell_type": "code",
   "execution_count": null,
   "id": "6b90c694-0fb0-488b-b628-e20549f764aa",
   "metadata": {},
   "outputs": [],
   "source": []
  },
  {
   "cell_type": "code",
   "execution_count": null,
   "id": "edb3df38-51df-4cdf-94db-fc6bf38effe2",
   "metadata": {},
   "outputs": [],
   "source": []
  },
  {
   "cell_type": "code",
   "execution_count": null,
   "id": "06dfbc13-c6c5-4fd7-a98a-2040a95cf267",
   "metadata": {},
   "outputs": [],
   "source": []
  },
  {
   "cell_type": "code",
   "execution_count": null,
   "id": "74cf78a4-3ab7-4bf0-933f-0b049b792a8b",
   "metadata": {},
   "outputs": [],
   "source": []
  },
  {
   "cell_type": "code",
   "execution_count": null,
   "id": "ee420064-c0d1-41fb-8a83-1d8bad17b0d4",
   "metadata": {},
   "outputs": [],
   "source": []
  },
  {
   "cell_type": "code",
   "execution_count": 1,
   "id": "f693e738-d33a-494e-9d25-ccdae4b4eafe",
   "metadata": {},
   "outputs": [
    {
     "name": "stderr",
     "output_type": "stream",
     "text": [
      "Conversion de la classe : 'daisy': 100%|██████████████████████████████████████████████| 20/20 [00:00<00:00, 120.82it/s]\n",
      "Conversion de la classe : 'dandelion': 100%|██████████████████████████████████████████| 20/20 [00:00<00:00, 141.16it/s]\n",
      "Conversion de la classe : 'rose': 100%|███████████████████████████████████████████████| 20/20 [00:00<00:00, 153.85it/s]\n",
      "Conversion de la classe : 'sunflower': 100%|██████████████████████████████████████████| 20/20 [00:00<00:00, 152.13it/s]\n",
      "Conversion de la classe : 'tulip': 100%|██████████████████████████████████████████████| 20/20 [00:00<00:00, 137.47it/s]\n"
     ]
    }
   ],
   "source": [
    "import os\n",
    "from PIL import Image\n",
    "import numpy as np\n",
    "from tqdm import tqdm\n",
    "\n",
    "\n",
    "def launchConversion(pathData, pathNumpy, resizeImg, imgSize):\n",
    "    \"\"\"\n",
    "    # Permet de lancer la conversion des images en tableau numpy\n",
    "    :param pathData: chemin ou sont les\n",
    "    :param pathNumpy:\n",
    "    :param resizeImg:\n",
    "    :param imgSize:\n",
    "    \"\"\"\n",
    "\n",
    "    #Pour chaque classe\n",
    "    for flowerClasse in os.listdir(pathData):\n",
    "        pathFlower = pathData + '\\\\' + flowerClasse\n",
    "        imgs = []\n",
    "\n",
    "        #Pour chaque image d'une classe, on la charge, resize et transforme en tableau\n",
    "        for imgFlower in tqdm(os.listdir(pathFlower), \"Conversion de la classe : '{}'\".format(flowerClasse)):\n",
    "            imgFlowerPath = pathFlower + '\\\\' + imgFlower\n",
    "            img = Image.open(imgFlowerPath)\n",
    "            img.load()\n",
    "            if resizeImg == True:\n",
    "                img = img.resize(size=imgSize)\n",
    "\n",
    "            data = np.asarray(img, dtype=np.float32)\n",
    "            imgs.append(data)\n",
    "\n",
    "        #Converti les gradients de pixels (allant de 0 à 255) vers des gradients compris entre 0 et 1\n",
    "        imgs = np.asarray(imgs) / 255.\n",
    "\n",
    "        #Enregistre une classe entiere en un fichier numpy\n",
    "        np.save(pathNumpy + '\\\\ ' + flowerClasse + '.npy', imgs)\n",
    "        \n",
    "        \n",
    "        \n",
    "pathNumpy = r'C:\\Users\\yabakar\\Documents\\Config\\diss1ia\\Projects\\DjangoRestAPI\\APIProjectFolder\\ImageClassifier\\numpy'\n",
    "pathData = r'C:\\Users\\yabakar\\Documents\\Config\\diss1ia\\Projects\\DjangoRestAPI\\APIProjectFolder\\ImageClassifier\\dataset'\n",
    "resizeImg = True\n",
    "imgSize = (50, 50)\n",
    "launchConversion(pathData, pathNumpy, resizeImg, imgSize)"
   ]
  },
  {
   "cell_type": "code",
   "execution_count": 2,
   "id": "60d91ef5-4a17-401e-b708-d7b5ccc1af6f",
   "metadata": {},
   "outputs": [],
   "source": [
    "import numpy as np\n",
    "import os\n",
    "import keras\n",
    "from sklearn.model_selection import train_test_split\n",
    "from keras.models import Sequential\n",
    "from keras.layers import Dense, Dropout, Flatten, Conv2D, MaxPooling2D\n",
    "from keras.utils import to_categorical\n",
    "from keras.callbacks import EarlyStopping, ModelCheckpoint, CSVLogger\n",
    "from keras.optimizers import *\n",
    "from keras import regularizers"
   ]
  },
  {
   "cell_type": "code",
   "execution_count": null,
   "id": "c5c85cd3-fef9-4b49-9cac-d6dfef70bd56",
   "metadata": {},
   "outputs": [],
   "source": []
  },
  {
   "cell_type": "code",
   "execution_count": null,
   "id": "3134aab1-d905-480a-b28c-eebb343e81fc",
   "metadata": {},
   "outputs": [],
   "source": []
  },
  {
   "cell_type": "code",
   "execution_count": null,
   "id": "c4722365-a024-4da8-8797-e41c120f49a2",
   "metadata": {},
   "outputs": [],
   "source": []
  },
  {
   "cell_type": "code",
   "execution_count": null,
   "id": "0dc8bc3a-dc93-45e7-a1c9-f5dfbf8d7531",
   "metadata": {},
   "outputs": [],
   "source": []
  },
  {
   "cell_type": "code",
   "execution_count": null,
   "id": "3b64db47-7ad9-44b5-8dea-2f3d8c803a96",
   "metadata": {},
   "outputs": [],
   "source": []
  },
  {
   "cell_type": "code",
   "execution_count": null,
   "id": "2d56c06a-245e-4f45-a2a2-f68cec30da11",
   "metadata": {},
   "outputs": [],
   "source": []
  },
  {
   "cell_type": "code",
   "execution_count": null,
   "id": "2ecf1227-84be-4374-9376-9a14ebecf158",
   "metadata": {},
   "outputs": [],
   "source": []
  },
  {
   "cell_type": "code",
   "execution_count": null,
   "id": "b6b7c6be-32fe-4115-9469-c1d78a651f9e",
   "metadata": {},
   "outputs": [],
   "source": []
  },
  {
   "cell_type": "code",
   "execution_count": null,
   "id": "5bdae4de-b014-4b51-b934-39b095bf32e8",
   "metadata": {},
   "outputs": [],
   "source": []
  },
  {
   "cell_type": "code",
   "execution_count": null,
   "id": "b84b03a4-416b-4f6c-ae68-682dc204d997",
   "metadata": {},
   "outputs": [],
   "source": []
  },
  {
   "cell_type": "code",
   "execution_count": null,
   "id": "8d50cf16-7088-4ffc-aa50-bf81daecb9da",
   "metadata": {},
   "outputs": [],
   "source": []
  },
  {
   "cell_type": "code",
   "execution_count": null,
   "id": "c1c2e118-b1a4-4e38-925c-202d70e7391c",
   "metadata": {},
   "outputs": [],
   "source": []
  },
  {
   "cell_type": "code",
   "execution_count": 3,
   "id": "25a32246-c475-4593-baec-dd0cb7a25f49",
   "metadata": {},
   "outputs": [
    {
     "name": "stdout",
     "output_type": "stream",
     "text": [
      "OK\n"
     ]
    }
   ],
   "source": [
    "from keras.applications.vgg16 import VGG16\n",
    "from keras.models import Model\n",
    "from keras.preprocessing import image\n",
    "from keras.applications.vgg16 import preprocess_input\n",
    "import numpy as np\n",
    "\n",
    "print(\"OK\")"
   ]
  },
  {
   "cell_type": "code",
   "execution_count": null,
   "id": "2c64c22f-bcf4-49bf-91dd-40a04db2bbf8",
   "metadata": {},
   "outputs": [],
   "source": []
  },
  {
   "cell_type": "code",
   "execution_count": null,
   "id": "139c4e17-f019-42b2-a589-f7657a83e1ec",
   "metadata": {},
   "outputs": [],
   "source": []
  },
  {
   "cell_type": "code",
   "execution_count": null,
   "id": "ba298915-0502-413b-8490-e77599d79d6d",
   "metadata": {},
   "outputs": [],
   "source": []
  },
  {
   "cell_type": "code",
   "execution_count": null,
   "id": "e617a9ab-a15a-4a7b-a067-cb20d7c1e8c4",
   "metadata": {},
   "outputs": [],
   "source": []
  },
  {
   "cell_type": "code",
   "execution_count": null,
   "id": "12c32396-5fc7-4df0-a666-b4f875899196",
   "metadata": {},
   "outputs": [],
   "source": []
  },
  {
   "cell_type": "code",
   "execution_count": null,
   "id": "eafb1b91-e2a0-4f53-b572-838aaadd48a0",
   "metadata": {},
   "outputs": [],
   "source": []
  },
  {
   "cell_type": "code",
   "execution_count": null,
   "id": "bcea3f0b-4143-4bd1-afbc-7147cbeef198",
   "metadata": {},
   "outputs": [],
   "source": []
  },
  {
   "cell_type": "code",
   "execution_count": 10,
   "id": "ad250a4c-f10a-4765-a2ef-15967537bb0d",
   "metadata": {
    "scrolled": true
   },
   "outputs": [
    {
     "name": "stderr",
     "output_type": "stream",
     "text": [
      "Conversion de la classe : 'daisy': 100%|███████████████████████████████████████████████████████████████████████████████████████████████████████████████████████████████████████████| 1/1 [00:00<00:00, 142.92it/s]\n",
      "Conversion de la classe : 'dandelion': 100%|███████████████████████████████████████████████████████████████████████████████████████████████████████████████████████████████████████| 1/1 [00:00<00:00, 125.02it/s]\n",
      "Conversion de la classe : 'rose': 100%|████████████████████████████████████████████████████████████████████████████████████████████████████████████████████████████████████████████| 1/1 [00:00<00:00, 125.04it/s]\n",
      "Conversion de la classe : 'sunflower': 100%|███████████████████████████████████████████████████████████████████████████████████████████████████████████████████████████████████████| 1/1 [00:00<00:00, 124.96it/s]\n",
      "Conversion de la classe : 'tulip': 100%|███████████████████████████████████████████████████████████████████████████████████████████████████████████████████████████████████████████| 1/1 [00:00<00:00, 200.03it/s]\n"
     ]
    }
   ],
   "source": [
    "# IMPORT\n",
    "import os\n",
    "from PIL import Image\n",
    "import numpy as np\n",
    "from tqdm import tqdm\n",
    "\n",
    "\n",
    "def launchConversion(pathData, pathNumpy, resizeImg, imgSize):\n",
    "    \"\"\"\n",
    "    # Permet de lancer la conversion des images en tableau numpy\n",
    "    :param pathData: chemin ou sont les\n",
    "    :param pathNumpy:\n",
    "    :param resizeImg:\n",
    "    :param imgSize:\n",
    "    \"\"\"\n",
    "\n",
    "    #Pour chaque classe\n",
    "    for flowerClasse in os.listdir(pathData):\n",
    "        pathFlower = pathData + '\\\\' + flowerClasse\n",
    "        imgs = []\n",
    "\n",
    "        #Pour chaque image d'une classe, on la charge, resize et transforme en tableau\n",
    "        for imgFlower in tqdm(os.listdir(pathFlower), \"Conversion de la classe : '{}'\".format(flowerClasse)):\n",
    "            imgFlowerPath = pathFlower + '\\\\' + imgFlower\n",
    "            img = Image.open(imgFlowerPath)\n",
    "            img.load()\n",
    "            if resizeImg == True:\n",
    "                img = img.resize(size=imgSize)\n",
    "\n",
    "            data = np.asarray(img, dtype=np.float32)\n",
    "            imgs.append(data)\n",
    "\n",
    "        #Converti les gradients de pixels (allant de 0 à 255) vers des gradients compris entre 0 et 1\n",
    "        imgs = np.asarray(imgs) / 255.\n",
    "\n",
    "        #Enregistre une classe entiere en un fichier numpy\n",
    "        np.save(pathNumpy + '\\\\ ' + flowerClasse + '.npy', imgs)\n",
    "        \n",
    "        \n",
    "        \n",
    "pathNumpy = '.\\\\numpy'\n",
    "pathData = '.\\\\dataset'\n",
    "resizeImg = True\n",
    "imgSize = (50, 50)\n",
    "launchConversion(pathData, pathNumpy, resizeImg, imgSize)"
   ]
  },
  {
   "cell_type": "code",
   "execution_count": null,
   "id": "f41f596e-4443-4730-b47e-72c4a01aa9fb",
   "metadata": {},
   "outputs": [],
   "source": []
  },
  {
   "cell_type": "code",
   "execution_count": null,
   "id": "0247f2a9-deaa-4ee0-b4da-4d6cc4a18f61",
   "metadata": {},
   "outputs": [],
   "source": []
  },
  {
   "cell_type": "code",
   "execution_count": 15,
   "id": "88328943-9b04-40b5-83ed-026cae0c1a7c",
   "metadata": {},
   "outputs": [
    {
     "name": "stdout",
     "output_type": "stream",
     "text": [
      "DIMENSION X TRAIN (4, 50, 50, 3)\n",
      "DIMENSION X TEST (1, 50, 50, 3)\n",
      "DIMENSION Y TRAIN (4, 5)\n",
      "DIMENSION Y TEST (1, 2)\n",
      "yala\n",
      "Epoch 1/1000\n"
     ]
    },
    {
     "ename": "ValueError",
     "evalue": "in user code:\n\n    File \"C:\\Users\\yabakar\\Anaconda3\\envs\\env_deeplearning\\lib\\site-packages\\keras\\engine\\training.py\", line 1021, in train_function  *\n        return step_function(self, iterator)\n    File \"C:\\Users\\yabakar\\Anaconda3\\envs\\env_deeplearning\\lib\\site-packages\\keras\\engine\\training.py\", line 1010, in step_function  **\n        outputs = model.distribute_strategy.run(run_step, args=(data,))\n    File \"C:\\Users\\yabakar\\Anaconda3\\envs\\env_deeplearning\\lib\\site-packages\\keras\\engine\\training.py\", line 1000, in run_step  **\n        outputs = model.train_step(data)\n    File \"C:\\Users\\yabakar\\Anaconda3\\envs\\env_deeplearning\\lib\\site-packages\\keras\\engine\\training.py\", line 860, in train_step\n        loss = self.compute_loss(x, y, y_pred, sample_weight)\n    File \"C:\\Users\\yabakar\\Anaconda3\\envs\\env_deeplearning\\lib\\site-packages\\keras\\engine\\training.py\", line 918, in compute_loss\n        return self.compiled_loss(\n    File \"C:\\Users\\yabakar\\Anaconda3\\envs\\env_deeplearning\\lib\\site-packages\\keras\\engine\\compile_utils.py\", line 201, in __call__\n        loss_value = loss_obj(y_t, y_p, sample_weight=sw)\n    File \"C:\\Users\\yabakar\\Anaconda3\\envs\\env_deeplearning\\lib\\site-packages\\keras\\losses.py\", line 141, in __call__\n        losses = call_fn(y_true, y_pred)\n    File \"C:\\Users\\yabakar\\Anaconda3\\envs\\env_deeplearning\\lib\\site-packages\\keras\\losses.py\", line 245, in call  **\n        return ag_fn(y_true, y_pred, **self._fn_kwargs)\n    File \"C:\\Users\\yabakar\\Anaconda3\\envs\\env_deeplearning\\lib\\site-packages\\keras\\losses.py\", line 1789, in categorical_crossentropy\n        return backend.categorical_crossentropy(\n    File \"C:\\Users\\yabakar\\Anaconda3\\envs\\env_deeplearning\\lib\\site-packages\\keras\\backend.py\", line 5083, in categorical_crossentropy\n        target.shape.assert_is_compatible_with(output.shape)\n\n    ValueError: Shapes (None, 5) and (None, 6) are incompatible\n",
     "output_type": "error",
     "traceback": [
      "\u001b[1;31m---------------------------------------------------------------------------\u001b[0m",
      "\u001b[1;31mValueError\u001b[0m                                Traceback (most recent call last)",
      "Input \u001b[1;32mIn [15]\u001b[0m, in \u001b[0;36m<cell line: 113>\u001b[1;34m()\u001b[0m\n\u001b[0;32m    111\u001b[0m \u001b[38;5;66;03m#On lance l'entrainement du modele\u001b[39;00m\n\u001b[0;32m    112\u001b[0m \u001b[38;5;28mprint\u001b[39m(\u001b[38;5;124m\"\u001b[39m\u001b[38;5;124myala\u001b[39m\u001b[38;5;124m\"\u001b[39m)\n\u001b[1;32m--> 113\u001b[0m trainning \u001b[38;5;241m=\u001b[39m \u001b[43mmodel\u001b[49m\u001b[38;5;241;43m.\u001b[39;49m\u001b[43mfit\u001b[49m\u001b[43m(\u001b[49m\u001b[43mx_train\u001b[49m\u001b[43m,\u001b[49m\u001b[43m \u001b[49m\u001b[43my_train\u001b[49m\u001b[43m,\u001b[49m\u001b[43m \u001b[49m\u001b[43mbatch_size\u001b[49m\u001b[38;5;241;43m=\u001b[39;49m\u001b[43mbatch_size\u001b[49m\u001b[43m,\u001b[49m\u001b[43m \u001b[49m\u001b[43mepochs\u001b[49m\u001b[38;5;241;43m=\u001b[39;49m\u001b[43mepochs\u001b[49m\u001b[43m,\u001b[49m\u001b[43m \u001b[49m\u001b[43mvalidation_data\u001b[49m\u001b[38;5;241;43m=\u001b[39;49m\u001b[43m(\u001b[49m\u001b[43mx_test\u001b[49m\u001b[43m,\u001b[49m\u001b[43m \u001b[49m\u001b[43my_test\u001b[49m\u001b[43m)\u001b[49m\u001b[43m,\u001b[49m\u001b[43m \u001b[49m\u001b[43mcallbacks\u001b[49m\u001b[38;5;241;43m=\u001b[39;49m\u001b[43m[\u001b[49m\u001b[43mearly\u001b[49m\u001b[43m,\u001b[49m\u001b[43m \u001b[49m\u001b[43mcheck\u001b[49m\u001b[43m,\u001b[49m\u001b[43mcsv_logger\u001b[49m\u001b[43m]\u001b[49m\u001b[43m)\u001b[49m\n\u001b[0;32m    118\u001b[0m \u001b[38;5;28mprint\u001b[39m(\u001b[38;5;124m\"\u001b[39m\u001b[38;5;124mOK\u001b[39m\u001b[38;5;124m\"\u001b[39m)\n",
      "File \u001b[1;32m~\\Anaconda3\\envs\\env_deeplearning\\lib\\site-packages\\keras\\utils\\traceback_utils.py:67\u001b[0m, in \u001b[0;36mfilter_traceback.<locals>.error_handler\u001b[1;34m(*args, **kwargs)\u001b[0m\n\u001b[0;32m     65\u001b[0m \u001b[38;5;28;01mexcept\u001b[39;00m \u001b[38;5;167;01mException\u001b[39;00m \u001b[38;5;28;01mas\u001b[39;00m e:  \u001b[38;5;66;03m# pylint: disable=broad-except\u001b[39;00m\n\u001b[0;32m     66\u001b[0m   filtered_tb \u001b[38;5;241m=\u001b[39m _process_traceback_frames(e\u001b[38;5;241m.\u001b[39m__traceback__)\n\u001b[1;32m---> 67\u001b[0m   \u001b[38;5;28;01mraise\u001b[39;00m e\u001b[38;5;241m.\u001b[39mwith_traceback(filtered_tb) \u001b[38;5;28;01mfrom\u001b[39;00m \u001b[38;5;28mNone\u001b[39m\n\u001b[0;32m     68\u001b[0m \u001b[38;5;28;01mfinally\u001b[39;00m:\n\u001b[0;32m     69\u001b[0m   \u001b[38;5;28;01mdel\u001b[39;00m filtered_tb\n",
      "File \u001b[1;32m~\\Anaconda3\\envs\\env_deeplearning\\lib\\site-packages\\tensorflow\\python\\framework\\func_graph.py:1147\u001b[0m, in \u001b[0;36mfunc_graph_from_py_func.<locals>.autograph_handler\u001b[1;34m(*args, **kwargs)\u001b[0m\n\u001b[0;32m   1145\u001b[0m \u001b[38;5;28;01mexcept\u001b[39;00m \u001b[38;5;167;01mException\u001b[39;00m \u001b[38;5;28;01mas\u001b[39;00m e:  \u001b[38;5;66;03m# pylint:disable=broad-except\u001b[39;00m\n\u001b[0;32m   1146\u001b[0m   \u001b[38;5;28;01mif\u001b[39;00m \u001b[38;5;28mhasattr\u001b[39m(e, \u001b[38;5;124m\"\u001b[39m\u001b[38;5;124mag_error_metadata\u001b[39m\u001b[38;5;124m\"\u001b[39m):\n\u001b[1;32m-> 1147\u001b[0m     \u001b[38;5;28;01mraise\u001b[39;00m e\u001b[38;5;241m.\u001b[39mag_error_metadata\u001b[38;5;241m.\u001b[39mto_exception(e)\n\u001b[0;32m   1148\u001b[0m   \u001b[38;5;28;01melse\u001b[39;00m:\n\u001b[0;32m   1149\u001b[0m     \u001b[38;5;28;01mraise\u001b[39;00m\n",
      "\u001b[1;31mValueError\u001b[0m: in user code:\n\n    File \"C:\\Users\\yabakar\\Anaconda3\\envs\\env_deeplearning\\lib\\site-packages\\keras\\engine\\training.py\", line 1021, in train_function  *\n        return step_function(self, iterator)\n    File \"C:\\Users\\yabakar\\Anaconda3\\envs\\env_deeplearning\\lib\\site-packages\\keras\\engine\\training.py\", line 1010, in step_function  **\n        outputs = model.distribute_strategy.run(run_step, args=(data,))\n    File \"C:\\Users\\yabakar\\Anaconda3\\envs\\env_deeplearning\\lib\\site-packages\\keras\\engine\\training.py\", line 1000, in run_step  **\n        outputs = model.train_step(data)\n    File \"C:\\Users\\yabakar\\Anaconda3\\envs\\env_deeplearning\\lib\\site-packages\\keras\\engine\\training.py\", line 860, in train_step\n        loss = self.compute_loss(x, y, y_pred, sample_weight)\n    File \"C:\\Users\\yabakar\\Anaconda3\\envs\\env_deeplearning\\lib\\site-packages\\keras\\engine\\training.py\", line 918, in compute_loss\n        return self.compiled_loss(\n    File \"C:\\Users\\yabakar\\Anaconda3\\envs\\env_deeplearning\\lib\\site-packages\\keras\\engine\\compile_utils.py\", line 201, in __call__\n        loss_value = loss_obj(y_t, y_p, sample_weight=sw)\n    File \"C:\\Users\\yabakar\\Anaconda3\\envs\\env_deeplearning\\lib\\site-packages\\keras\\losses.py\", line 141, in __call__\n        losses = call_fn(y_true, y_pred)\n    File \"C:\\Users\\yabakar\\Anaconda3\\envs\\env_deeplearning\\lib\\site-packages\\keras\\losses.py\", line 245, in call  **\n        return ag_fn(y_true, y_pred, **self._fn_kwargs)\n    File \"C:\\Users\\yabakar\\Anaconda3\\envs\\env_deeplearning\\lib\\site-packages\\keras\\losses.py\", line 1789, in categorical_crossentropy\n        return backend.categorical_crossentropy(\n    File \"C:\\Users\\yabakar\\Anaconda3\\envs\\env_deeplearning\\lib\\site-packages\\keras\\backend.py\", line 5083, in categorical_crossentropy\n        target.shape.assert_is_compatible_with(output.shape)\n\n    ValueError: Shapes (None, 5) and (None, 6) are incompatible\n"
     ]
    }
   ],
   "source": [
    "# IMPORT\n",
    "import numpy as np\n",
    "import os\n",
    "import keras\n",
    "from sklearn.model_selection import train_test_split\n",
    "from keras.models import Sequential\n",
    "from keras.layers import Dense, Dropout, Flatten, Conv2D, MaxPooling2D\n",
    "from tensorflow.keras.utils import to_categorical\n",
    "from keras.callbacks import EarlyStopping, ModelCheckpoint, CSVLogger\n",
    "from keras.optimizers import *\n",
    "from keras import regularizers\n",
    "import tensorflow as tf\n",
    "\n",
    "\n",
    "\"\"\"\n",
    "# Classe permettant d'entrainer un modèle sur une jeu de données\n",
    "\"\"\"\n",
    "\n",
    "def get_labels(path):\n",
    "    \"\"\"\n",
    "    # Permet de recuperer les labels de nos classe, leurs indices dans le tableau et leur matrix binaire one hot encoder\n",
    "    :param path: chemin ou sont stocké nos fichiers Numpy\n",
    "    \"\"\"\n",
    "\n",
    "    labels = [file.replace('.npy', '') for file in os.listdir(path) if file.endswith('.npy')]\n",
    "    label_indices = np.arange(0, len(labels))\n",
    "    return labels, label_indices, to_categorical(label_indices)\n",
    "\n",
    "\n",
    "\n",
    "def get_train_test(train_ratio, pathData):\n",
    "    \"\"\"\n",
    "    # Retourner le dataset melanger en dataset d'entrainement et de validation selon un ratio\n",
    "    :param train_ratio: permet de gerer la part entre dataset de train et de validation\n",
    "    :param pathData: chemin des fichiers numpy\n",
    "    \"\"\"\n",
    "\n",
    "    labels, _, _ = get_labels(pathData)\n",
    "    classNumber = 0\n",
    "\n",
    "    #On init avec le premier tableau pour avoir les bonnes dimensions pour la suite\n",
    "    X = data = np.load(pathData + '\\\\' + labels[0] + '.npy')\n",
    "    Y = np.zeros(X.shape[0])\n",
    "    dimension = X[0].shape\n",
    "    classNumber += 1\n",
    "\n",
    "\n",
    "    #On ajoute le reste des fichiers numpy de nos classes\n",
    "    for i, label in enumerate(labels[1:]):\n",
    "        data = np.load(pathData + '\\\\' + label + '.npy')\n",
    "        X = np.vstack((X, data))\n",
    "        Y = np.append(Y, np.full(data.shape[0], fill_value=(i+1)))\n",
    "        classNumber += 1\n",
    "\n",
    "\n",
    "\n",
    "    X_train, X_test, Y_train, Y_test = train_test_split(X, Y, train_size=train_ratio)\n",
    "    return X_train, X_test, to_categorical(Y_train), to_categorical(Y_test), classNumber, dimension\n",
    "\n",
    "\n",
    "\n",
    "\n",
    "\n",
    "\"\"\"\n",
    "# Fonction main\n",
    "\"\"\"\n",
    "\n",
    "#Definition des chemins et autres variables\n",
    "pathData = '.\\\\numpy'\n",
    "trainRatio = 0.8\n",
    "epochs = 1000\n",
    "batch_size = 16\n",
    "earlyStopPatience = 5\n",
    "\n",
    "#Definition des callbacks\n",
    "\n",
    "#Permet de retourner 4 metrics de suivi a chaque iteration\n",
    "csv_logger = CSVLogger('.\\\\logs\\\\log_moModel.csv', append=True, separator=',')\n",
    "\n",
    "#Permet de stopper l'entrainement quand le modèle n'entraine pluss\n",
    "early = EarlyStopping(monitor='val_loss', min_delta=0, patience=earlyStopPatience, verbose=0, mode='auto')\n",
    "\n",
    "#Permet de sauvegarder le model a chaque iteration si il est meilleur que le precedent\n",
    "check = ModelCheckpoint('.\\\\trainedModel\\\\moModel.hdf5', monitor='val_loss', verbose=0,\n",
    "                            save_best_only=True, save_weights_only=False, mode='auto')\n",
    "\n",
    "#Recuperation de nos data pré traité\n",
    "x_train, x_test, y_train, y_test, classNumber, dimension = get_train_test(trainRatio, pathData)\n",
    "\n",
    "#On verifie les dimensions de nos données\n",
    "print('DIMENSION X TRAIN ' + str(x_train.shape))\n",
    "print('DIMENSION X TEST ' + str(x_test.shape))\n",
    "print('DIMENSION Y TRAIN ' + str(y_train.shape))\n",
    "print('DIMENSION Y TEST ' + str(y_test.shape))\n",
    "\n",
    "#On creer le modele\n",
    "model = Sequential()\n",
    "model.add(Conv2D(32, kernel_size=(2, 2), activation='relu', input_shape=(dimension[0], dimension[1], dimension[2])))\n",
    "model.add(MaxPooling2D(pool_size=(2, 2)))\n",
    "model.add(Dropout(0.25))\n",
    "model.add(Flatten())\n",
    "model.add(Dense(128, activation='relu'))\n",
    "model.add(Dropout(0.25))\n",
    "model.add(Dense(classNumber, activation='softmax'))\n",
    "\n",
    "#On compile le modele\n",
    "model.compile(loss=keras.losses.categorical_crossentropy,\n",
    "                  optimizer=tf.keras.optimizers.Adamax(lr=0.001, beta_1=0.9, beta_2=0.999, decay=0.0),\n",
    "                  metrics=['accuracy'])\n",
    "\n",
    "#On lance l'entrainement du modele\n",
    "print(\"yala\")\n",
    "trainning = model.fit(x_train, y_train, batch_size=batch_size, epochs=epochs, validation_data=(x_test, y_test), callbacks=[early, check,csv_logger])\n",
    "\n",
    "\n",
    "\n",
    "\n",
    "print(\"OK\")"
   ]
  },
  {
   "cell_type": "code",
   "execution_count": null,
   "id": "185eaa33-d994-4834-884b-19956e18c564",
   "metadata": {},
   "outputs": [],
   "source": []
  },
  {
   "cell_type": "code",
   "execution_count": 80,
   "id": "9a38d2eb-e76b-4e4d-924d-05784d38f3cf",
   "metadata": {},
   "outputs": [
    {
     "ename": "KeyError",
     "evalue": "'acc'",
     "output_type": "error",
     "traceback": [
      "\u001b[1;31m---------------------------------------------------------------------------\u001b[0m",
      "\u001b[1;31mKeyError\u001b[0m                                  Traceback (most recent call last)",
      "File \u001b[1;32m~\\Anaconda3\\envs\\env_deeplearning\\lib\\site-packages\\pandas\\core\\indexes\\base.py:3621\u001b[0m, in \u001b[0;36mIndex.get_loc\u001b[1;34m(self, key, method, tolerance)\u001b[0m\n\u001b[0;32m   3620\u001b[0m \u001b[38;5;28;01mtry\u001b[39;00m:\n\u001b[1;32m-> 3621\u001b[0m     \u001b[38;5;28;01mreturn\u001b[39;00m \u001b[38;5;28;43mself\u001b[39;49m\u001b[38;5;241;43m.\u001b[39;49m\u001b[43m_engine\u001b[49m\u001b[38;5;241;43m.\u001b[39;49m\u001b[43mget_loc\u001b[49m\u001b[43m(\u001b[49m\u001b[43mcasted_key\u001b[49m\u001b[43m)\u001b[49m\n\u001b[0;32m   3622\u001b[0m \u001b[38;5;28;01mexcept\u001b[39;00m \u001b[38;5;167;01mKeyError\u001b[39;00m \u001b[38;5;28;01mas\u001b[39;00m err:\n",
      "File \u001b[1;32m~\\Anaconda3\\envs\\env_deeplearning\\lib\\site-packages\\pandas\\_libs\\index.pyx:136\u001b[0m, in \u001b[0;36mpandas._libs.index.IndexEngine.get_loc\u001b[1;34m()\u001b[0m\n",
      "File \u001b[1;32m~\\Anaconda3\\envs\\env_deeplearning\\lib\\site-packages\\pandas\\_libs\\index.pyx:163\u001b[0m, in \u001b[0;36mpandas._libs.index.IndexEngine.get_loc\u001b[1;34m()\u001b[0m\n",
      "File \u001b[1;32mpandas\\_libs\\hashtable_class_helper.pxi:5198\u001b[0m, in \u001b[0;36mpandas._libs.hashtable.PyObjectHashTable.get_item\u001b[1;34m()\u001b[0m\n",
      "File \u001b[1;32mpandas\\_libs\\hashtable_class_helper.pxi:5206\u001b[0m, in \u001b[0;36mpandas._libs.hashtable.PyObjectHashTable.get_item\u001b[1;34m()\u001b[0m\n",
      "\u001b[1;31mKeyError\u001b[0m: 'acc'",
      "\nThe above exception was the direct cause of the following exception:\n",
      "\u001b[1;31mKeyError\u001b[0m                                  Traceback (most recent call last)",
      "Input \u001b[1;32mIn [80]\u001b[0m, in \u001b[0;36m<cell line: 57>\u001b[1;34m()\u001b[0m\n\u001b[0;32m     55\u001b[0m pathLogs \u001b[38;5;241m=\u001b[39m \u001b[38;5;124m'\u001b[39m\u001b[38;5;124m.\u001b[39m\u001b[38;5;130;01m\\\\\u001b[39;00m\u001b[38;5;124mlogs\u001b[39m\u001b[38;5;130;01m\\\\\u001b[39;00m\u001b[38;5;124mlog_moModel.csv\u001b[39m\u001b[38;5;124m'\u001b[39m\n\u001b[0;32m     56\u001b[0m pathSaveGraph \u001b[38;5;241m=\u001b[39m \u001b[38;5;124m'\u001b[39m\u001b[38;5;124m.\u001b[39m\u001b[38;5;130;01m\\\\\u001b[39;00m\u001b[38;5;124mgraph\u001b[39m\u001b[38;5;124m'\u001b[39m\n\u001b[1;32m---> 57\u001b[0m \u001b[43mdisplayGraph\u001b[49m\u001b[43m(\u001b[49m\u001b[43mpathLogs\u001b[49m\u001b[43m,\u001b[49m\u001b[43mpathSaveGraph\u001b[49m\u001b[43m)\u001b[49m\n\u001b[0;32m     63\u001b[0m \u001b[38;5;28mprint\u001b[39m(\u001b[38;5;124m\"\u001b[39m\u001b[38;5;124mOK\u001b[39m\u001b[38;5;124m\"\u001b[39m)\n",
      "Input \u001b[1;32mIn [80]\u001b[0m, in \u001b[0;36mdisplayGraph\u001b[1;34m(pathLog, pathSaveGraph)\u001b[0m\n\u001b[0;32m     18\u001b[0m data \u001b[38;5;241m=\u001b[39m pd\u001b[38;5;241m.\u001b[39mread_csv(pathLog)\n\u001b[0;32m     19\u001b[0m \u001b[38;5;66;03m# split into input (X) and output (Y) variables\u001b[39;00m\n\u001b[1;32m---> 20\u001b[0m plot(data[\u001b[38;5;124m'\u001b[39m\u001b[38;5;124mepoch\u001b[39m\u001b[38;5;124m'\u001b[39m], \u001b[43mdata\u001b[49m\u001b[43m[\u001b[49m\u001b[38;5;124;43m'\u001b[39;49m\u001b[38;5;124;43macc\u001b[39;49m\u001b[38;5;124;43m'\u001b[39;49m\u001b[43m]\u001b[49m, data[\u001b[38;5;124m'\u001b[39m\u001b[38;5;124mval_acc\u001b[39m\u001b[38;5;124m'\u001b[39m], \u001b[38;5;124m'\u001b[39m\u001b[38;5;124mTRAIN_VAL_Accuracy\u001b[39m\u001b[38;5;124m'\u001b[39m, \u001b[38;5;124m'\u001b[39m\u001b[38;5;124mEpoch\u001b[39m\u001b[38;5;124m'\u001b[39m, \u001b[38;5;124m'\u001b[39m\u001b[38;5;124mAccuracy\u001b[39m\u001b[38;5;124m'\u001b[39m, \u001b[38;5;124m'\u001b[39m\u001b[38;5;124mupper left\u001b[39m\u001b[38;5;124m'\u001b[39m,pathSaveGraph)\n\u001b[0;32m     21\u001b[0m plot(data[\u001b[38;5;124m'\u001b[39m\u001b[38;5;124mepoch\u001b[39m\u001b[38;5;124m'\u001b[39m], data[\u001b[38;5;124m'\u001b[39m\u001b[38;5;124mloss\u001b[39m\u001b[38;5;124m'\u001b[39m], data[\u001b[38;5;124m'\u001b[39m\u001b[38;5;124mval_loss\u001b[39m\u001b[38;5;124m'\u001b[39m], \u001b[38;5;124m'\u001b[39m\u001b[38;5;124mTRAIN_VAL_Loss\u001b[39m\u001b[38;5;124m'\u001b[39m, \u001b[38;5;124m'\u001b[39m\u001b[38;5;124mEpoch\u001b[39m\u001b[38;5;124m'\u001b[39m, \u001b[38;5;124m'\u001b[39m\u001b[38;5;124mLoss\u001b[39m\u001b[38;5;124m'\u001b[39m, \u001b[38;5;124m'\u001b[39m\u001b[38;5;124mupper left\u001b[39m\u001b[38;5;124m'\u001b[39m,pathSaveGraph)\n",
      "File \u001b[1;32m~\\Anaconda3\\envs\\env_deeplearning\\lib\\site-packages\\pandas\\core\\frame.py:3505\u001b[0m, in \u001b[0;36mDataFrame.__getitem__\u001b[1;34m(self, key)\u001b[0m\n\u001b[0;32m   3503\u001b[0m \u001b[38;5;28;01mif\u001b[39;00m \u001b[38;5;28mself\u001b[39m\u001b[38;5;241m.\u001b[39mcolumns\u001b[38;5;241m.\u001b[39mnlevels \u001b[38;5;241m>\u001b[39m \u001b[38;5;241m1\u001b[39m:\n\u001b[0;32m   3504\u001b[0m     \u001b[38;5;28;01mreturn\u001b[39;00m \u001b[38;5;28mself\u001b[39m\u001b[38;5;241m.\u001b[39m_getitem_multilevel(key)\n\u001b[1;32m-> 3505\u001b[0m indexer \u001b[38;5;241m=\u001b[39m \u001b[38;5;28;43mself\u001b[39;49m\u001b[38;5;241;43m.\u001b[39;49m\u001b[43mcolumns\u001b[49m\u001b[38;5;241;43m.\u001b[39;49m\u001b[43mget_loc\u001b[49m\u001b[43m(\u001b[49m\u001b[43mkey\u001b[49m\u001b[43m)\u001b[49m\n\u001b[0;32m   3506\u001b[0m \u001b[38;5;28;01mif\u001b[39;00m is_integer(indexer):\n\u001b[0;32m   3507\u001b[0m     indexer \u001b[38;5;241m=\u001b[39m [indexer]\n",
      "File \u001b[1;32m~\\Anaconda3\\envs\\env_deeplearning\\lib\\site-packages\\pandas\\core\\indexes\\base.py:3623\u001b[0m, in \u001b[0;36mIndex.get_loc\u001b[1;34m(self, key, method, tolerance)\u001b[0m\n\u001b[0;32m   3621\u001b[0m     \u001b[38;5;28;01mreturn\u001b[39;00m \u001b[38;5;28mself\u001b[39m\u001b[38;5;241m.\u001b[39m_engine\u001b[38;5;241m.\u001b[39mget_loc(casted_key)\n\u001b[0;32m   3622\u001b[0m \u001b[38;5;28;01mexcept\u001b[39;00m \u001b[38;5;167;01mKeyError\u001b[39;00m \u001b[38;5;28;01mas\u001b[39;00m err:\n\u001b[1;32m-> 3623\u001b[0m     \u001b[38;5;28;01mraise\u001b[39;00m \u001b[38;5;167;01mKeyError\u001b[39;00m(key) \u001b[38;5;28;01mfrom\u001b[39;00m \u001b[38;5;21;01merr\u001b[39;00m\n\u001b[0;32m   3624\u001b[0m \u001b[38;5;28;01mexcept\u001b[39;00m \u001b[38;5;167;01mTypeError\u001b[39;00m:\n\u001b[0;32m   3625\u001b[0m     \u001b[38;5;66;03m# If we have a listlike key, _check_indexing_error will raise\u001b[39;00m\n\u001b[0;32m   3626\u001b[0m     \u001b[38;5;66;03m#  InvalidIndexError. Otherwise we fall through and re-raise\u001b[39;00m\n\u001b[0;32m   3627\u001b[0m     \u001b[38;5;66;03m#  the TypeError.\u001b[39;00m\n\u001b[0;32m   3628\u001b[0m     \u001b[38;5;28mself\u001b[39m\u001b[38;5;241m.\u001b[39m_check_indexing_error(key)\n",
      "\u001b[1;31mKeyError\u001b[0m: 'acc'"
     ]
    }
   ],
   "source": [
    "# IMPORT\n",
    "import matplotlib.pyplot as plt\n",
    "import pandas as pd\n",
    "\n",
    "\"\"\"\n",
    "# Classe permettant de génerer 4 graphiques de suivit de métriques durant l'entrainement d'un modèle\n",
    "# Train accuracy, Train loss, Validation accuracy, Validation loss\n",
    "\"\"\"\n",
    "\n",
    "\n",
    "def displayGraph(pathLog,pathSaveGraph):\n",
    "    \"\"\"\n",
    "    # Fonction permettant de creer nos graph de suivi de metriques\n",
    "    :param pathLog: chemin du CSV contenant nos metrics\n",
    "    :param pathSaveGraph: chemin de destination pour sauvegarder nos 4 graphiques en jpg\n",
    "    \"\"\"\n",
    "\n",
    "    data = pd.read_csv(pathLog)\n",
    "    # split into input (X) and output (Y) variables\n",
    "    plot(data['epoch'], data['acc'], data['val_acc'], 'TRAIN_VAL_Accuracy', 'Epoch', 'Accuracy', 'upper left',pathSaveGraph)\n",
    "    plot(data['epoch'], data['loss'], data['val_loss'], 'TRAIN_VAL_Loss', 'Epoch', 'Loss', 'upper left',pathSaveGraph)\n",
    "\n",
    "    \n",
    "    \n",
    "def plot(X, Y, Y2, title, xLabel, yLabel, legendLoc, pathSaveGraph):\n",
    "    \"\"\"\n",
    "    # Fonction d'affichage de graph\n",
    "    :param X: correspond au nombre d'époch\n",
    "    :param Y: correspond a la courbe accuracy\n",
    "    :param Y2: correspond a la courbe loss\n",
    "    :param title: titre du graphique\n",
    "    :param xLabel: label des abcisses\n",
    "    :param yLabel: label des ordonnees\n",
    "    :param legendLoc: legende\n",
    "    :param pathSaveGraph: chemin de sauvegarde pour les graphiques\n",
    "    \"\"\"\n",
    "\n",
    "   #On trace nos differentes courbes\n",
    "    plt.plot(Y)\n",
    "    plt.plot(Y2)\n",
    "   #titre du graph, legende...\n",
    "    plt.title(title)\n",
    "    plt.xlabel(xLabel)\n",
    "    plt.ylabel(yLabel)\n",
    "    plt.legend(['train', 'val'], loc=legendLoc)\n",
    "   #Pour avoir un courbe propre qui demarre à 0\n",
    "    plt.xlim(xmin=0.0, xmax=max(X))\n",
    "    plt.savefig(pathSaveGraph +'\\\\' + title)\n",
    "    plt.figure()\n",
    "    #plt.show()\n",
    "    \n",
    "    \n",
    "    \n",
    "#Definition des chemins d'acces a notre fichier log\n",
    "pathLogs = '.\\\\logs\\\\log_moModel.csv'\n",
    "pathSaveGraph = '.\\\\graph'\n",
    "displayGraph(pathLogs,pathSaveGraph)\n",
    "    \n",
    "    \n",
    "    \n",
    "\n",
    "\n",
    "print(\"OK\")"
   ]
  },
  {
   "cell_type": "code",
   "execution_count": 39,
   "id": "070d0fe3-d651-4039-bbbd-4fe0f5dd7793",
   "metadata": {},
   "outputs": [
    {
     "name": "stdout",
     "output_type": "stream",
     "text": [
      "\n",
      "Evaluation :\n"
     ]
    },
    {
     "name": "stderr",
     "output_type": "stream",
     "text": [
      "Prediction de la classe 'daisy': 100%|██████████████████████████████████████████████████████████████████████████████████████████████████████████████████████████████████████████████| 3/3 [00:00<00:00, 11.72it/s]\n",
      "Prediction de la classe 'dandelion': 100%|██████████████████████████████████████████████████████████████████████████████████████████████████████████████████████████████████████████| 3/3 [00:00<00:00, 11.91it/s]\n",
      "Prediction de la classe 'rose': 100%|███████████████████████████████████████████████████████████████████████████████████████████████████████████████████████████████████████████████| 3/3 [00:00<00:00, 12.93it/s]\n",
      "Prediction de la classe 'sunflower': 100%|██████████████████████████████████████████████████████████████████████████████████████████████████████████████████████████████████████████| 3/3 [00:00<00:00, 10.38it/s]\n",
      "Prediction de la classe 'tulip': 100%|██████████████████████████████████████████████████████████████████████████████████████████████████████████████████████████████████████████████| 3/3 [00:00<00:00, 12.50it/s]\n"
     ]
    },
    {
     "name": "stdout",
     "output_type": "stream",
     "text": [
      "\n",
      "Precision : 40.000%\n",
      "OK\n"
     ]
    },
    {
     "data": {
      "image/png": "[encoded data removed]",
      "text/plain": [
       "<Figure size 432x288 with 2 Axes>"
      ]
     },
     "metadata": {
      "needs_background": "light"
     },
     "output_type": "display_data"
    }
   ],
   "source": [
    "# IMPORT\n",
    "import matplotlib.pyplot as plt\n",
    "from tqdm import tqdm\n",
    "import os\n",
    "from PIL import Image\n",
    "import numpy as np\n",
    "from sklearn.metrics import confusion_matrix\n",
    "import itertools\n",
    "from keras.models import load_model\n",
    "\n",
    "\n",
    "\"\"\"\n",
    "# Classe permettant de génerer une matrice de confusion à partir d'un dataset de test et d'un modèle entrainé\n",
    "# au préalable\n",
    "\"\"\"\n",
    "\n",
    "\n",
    "def generateMatrix(model, datasetTestPath, imageSize, destinationMatrix):\n",
    "\t\"\"\"\n",
    "\t# Fonction qui va construire notre matrice de confusion\n",
    "\t:param model: chemin du modèle à charger pour realiser la prediction\n",
    "\t:param datasetTestPath: chemin du dataset contenant nos images de test\n",
    "\t:param imageSize: definit la taille de l'ensemble de nos images\n",
    "\t:param destinationMatrix: définit le chemin ou va être sauvegardé notre matrice sous format d'image\n",
    "\t:return:\n",
    "\t\"\"\"\n",
    "\n",
    "\t#Les tableaux contenanrt les predictions\n",
    "\ty_true = []\n",
    "\ty_pred = []\n",
    "\n",
    "\ttotal = 0\n",
    "\tsuccess = 0\n",
    "\tindex = 0\n",
    "\n",
    "\tprint('\\nEvaluation :')\n",
    "\t#On parcours notre dataset de test\n",
    "\tfor root, dirs, files in os.walk(datasetTestPath):\n",
    "\t\tfor mydir in dirs:\n",
    "\t\t\tfor sample in tqdm(os.listdir(root + '\\\\' + mydir), \"Prediction de la classe '{}'\".format(mydir)):\n",
    "\n",
    "\t\t\t\tsample_path = root + '\\\\' + mydir + '\\\\' + sample\n",
    "\t\t\t\t#Chargement et traitement de l'image\n",
    "\t\t\t\timg = Image.open(sample_path)\n",
    "\t\t\t\timg.load()\n",
    "\t\t\t\timg = img.resize(size=imageSize)\n",
    "\t\t\t\timg = np.asarray(img) / 255.\n",
    "\t\t\t\t#On reshape pour etre de la forme (nbImage,hauteurImage,largeurImage,nbCanaux)\n",
    "\t\t\t\timg = img.reshape(1, img.shape[0], img.shape[1], img.shape[2])\n",
    "\t\t\t\t#Prediction de notre modele\n",
    "\t\t\t\tpred = np.argmax(model.predict(img))\n",
    "\n",
    "\t\t\t\ttotal += 1\n",
    "\t\t\t\tif pred == index:\n",
    "\t\t\t\t\tsuccess += 1\n",
    "\n",
    "\t\t\t\ty_true.append(index)\n",
    "\t\t\t\ty_pred.append(pred)\n",
    "\n",
    "\t\t\tindex += 1\n",
    "\n",
    "\t#Precision de notre modele sur notre jeu de test en entier\n",
    "\taccuracy = (success / total) * 100.\n",
    "\tprint('\\nPrecision : {0:.3f}%'.format(accuracy))\n",
    "\n",
    "\n",
    "\tcnf_matrix = confusion_matrix(y_true, y_pred)\n",
    "\tnp.set_printoptions(precision=2)\n",
    "\n",
    "\t# Plot normalized confusion matrix\n",
    "\tplt.figure()\n",
    "\n",
    "\tcmap = plt.cm.Blues\n",
    "\tclasses = ['marguerite', 'pissenlit', 'rose', 'tournesol', 'tulipe']\n",
    "\ttitle = 'Confusion matrix'\n",
    "\n",
    "\tcnf_matrix = cnf_matrix.astype('float') / cnf_matrix.sum(axis=1)[:, np.newaxis]\n",
    "\n",
    "\t#Legende de notre matrice\n",
    "\tplt.imshow(cnf_matrix, interpolation='nearest', cmap=cmap)\n",
    "\tplt.title(title)\n",
    "\tplt.colorbar()\n",
    "\ttick_marks = np.arange(len(classes))\n",
    "\tplt.xticks(tick_marks, classes, rotation=45)\n",
    "\tplt.yticks(tick_marks, classes)\n",
    "\n",
    "\tfmt = '.2f'\n",
    "\tthresh = cnf_matrix.max() / 2.\n",
    "\tfor i, j in itertools.product(range(cnf_matrix.shape[0]), range(cnf_matrix.shape[1])):\n",
    "\t\tplt.text(j, i, format(cnf_matrix[i, j], fmt), horizontalalignment=\"center\", color=\"white\" if cnf_matrix[i, j] > thresh else \"black\")\n",
    "\n",
    "\tplt.ylabel('True label')\n",
    "\tplt.xlabel('Predicted label')\n",
    "\tplt.tight_layout()\n",
    "\n",
    "\t#On sauvegarde notre matrice en image\n",
    "\tplt.savefig(destinationMatrix + '\\\\' + 'confusionMatrix')\n",
    "\n",
    "\n",
    "    \n",
    "#On definit les chemins de nos divers ressources\n",
    "modelPath = '.\\\\trainedModel\\\\moModel.hdf5'\n",
    "datasetTestPath = '.\\\\datasetTest'\n",
    "destinationMatrix = '.\\\\graph'\n",
    "imageSize = (50, 50)\n",
    "model = load_model(modelPath)\n",
    "\n",
    "generateMatrix(model, datasetTestPath, imageSize, destinationMatrix)\n",
    "\n",
    "\n",
    "\n",
    "print(\"OK\")"
   ]
  },
  {
   "cell_type": "code",
   "execution_count": null,
   "id": "84f45630-e7eb-4773-8dbe-cd5bcf57bac2",
   "metadata": {},
   "outputs": [],
   "source": []
  },
  {
   "cell_type": "code",
   "execution_count": null,
   "id": "28980e7a-2b82-4af9-9fcf-e42035e014e8",
   "metadata": {},
   "outputs": [],
   "source": []
  },
  {
   "cell_type": "code",
   "execution_count": 40,
   "id": "ff8be3c6-049e-42b8-8495-918e83f964f2",
   "metadata": {},
   "outputs": [
    {
     "name": "stdout",
     "output_type": "stream",
     "text": [
      "Chargement du modèle :\n",
      "\n",
      "\n",
      "Model chargé.\n",
      "\n",
      "----------\n",
      " Prediction :\n",
      "     marguerite : 0.70%\n",
      "     pissenlit : 2.30%\n",
      "     rose : 26.77%\n",
      "     tournesol : 20.67%\n",
      "     tulipe : 49.56%\n",
      "\n",
      "RESULTAT : tulipe : 49.56%\n",
      "temps prediction : 0.23secs\n",
      "----------\n",
      "OK\n"
     ]
    }
   ],
   "source": [
    "#IMPORT\n",
    "from keras.models import load_model\n",
    "from PIL import Image\n",
    "import numpy as np\n",
    "import time\n",
    "\n",
    "\n",
    "def predict(modelPath,imagePath, imageSize, label):\n",
    "    \"\"\"\n",
    "    # Fonction qui permet de convertir une image en array, de charger le modele et de lui injecter notre image pour une prediction\n",
    "    :param modelPath: chemin du modèle au format hdf5\n",
    "    :param imagePath: chemin de l'image pour realiser une prediction\n",
    "    :param imageSize: défini la taille de l'image. IMPORTANT : doit être de la même taille que celle des images\n",
    "    du dataset d'entrainements\n",
    "    :param label: nom de nos 5 classes de sortie\n",
    "    \"\"\"\n",
    "\n",
    "    start = time.time()\n",
    "\n",
    "    # Chargement du modele\n",
    "    print(\"Chargement du modèle :\\n\")\n",
    "    model = load_model(modelPath)\n",
    "    print(\"\\nModel chargé.\")\n",
    "\n",
    "    #Chargement de notre image et traitement\n",
    "    data = []\n",
    "    img = Image.open(imagePath)\n",
    "    img.load()\n",
    "    img = img.resize(size=imageSize)\n",
    "    img = np.asarray(img) / 255.\n",
    "    data.append(img)\n",
    "    data = np.asarray(data)\n",
    "\n",
    "    #On reshape pour correspondre aux dimensions de notre modele\n",
    "    # Arg1 : correspond au nombre d'image que on injecte\n",
    "    # Arg2 : correspond a la largeur de l'image\n",
    "    # Arg3 : correspond a la hauteur de l'image\n",
    "    # Arg4 : correspond au nombre de canaux de l'image (1 grayscale, 3 couleurs)\n",
    "    dimension = data[0].shape\n",
    "\n",
    "    #Reshape pour passer de 3 à 4 dimension pour notre réseau\n",
    "    data = data.astype(np.float32).reshape(data.shape[0], dimension[0], dimension[1], dimension[2])\n",
    "\n",
    "    #On realise une prediction\n",
    "    prediction = model.predict(data)\n",
    "\n",
    "\n",
    "    #On recupere le numero de label qui a la plus haut prediction\n",
    "    maxPredict = np.argmax(prediction)\n",
    "\n",
    "    #On recupere le mot correspondant à l'indice precedent\n",
    "    word = label[maxPredict]\n",
    "    pred = prediction[0][maxPredict] * 100.\n",
    "    end = time.time()\n",
    "\n",
    "\n",
    "    #On affiche les prédictions\n",
    "    print()\n",
    "    print('----------')\n",
    "    print(\" Prediction :\")\n",
    "    for i in range(0, len(label)):\n",
    "        print('     ' + label[i] + ' : ' + \"{0:.2f}%\".format(prediction[0][i] * 100.))\n",
    "\n",
    "    print()\n",
    "    print('RESULTAT : ' + word + ' : ' + \"{0:.2f}%\".format(pred))\n",
    "    print('temps prediction : ' + \"{0:.2f}secs\".format(end-start))\n",
    "\n",
    "    print('----------')\n",
    "    \n",
    "    \n",
    "    \n",
    "\"\"\"\n",
    "# On definit les chemins d'acces au différentes hyper parametre\n",
    "\"\"\"\n",
    "\n",
    "modelPath = '.\\\\trainedModel\\\\moModel.hdf5'\n",
    "imagePath =  '.\\\\testImage\\\\rose.jpg'\n",
    "imageSize = (50,50)\n",
    "label = ['marguerite', 'pissenlit', 'rose', 'tournesol', 'tulipe']\n",
    "\n",
    "predict(modelPath, imagePath,imageSize, label)\n",
    "\n",
    "\n",
    "\n",
    "\n",
    "print(\"OK\")"
   ]
  },
  {
   "cell_type": "code",
   "execution_count": null,
   "id": "1774fe30",
   "metadata": {},
   "outputs": [],
   "source": []
  },
  {
   "cell_type": "code",
   "execution_count": 9,
   "id": "483355bd",
   "metadata": {},
   "outputs": [
    {
     "ename": "ValueError",
     "evalue": "threshold must be non-NAN, try sys.maxsize for untruncated representation",
     "output_type": "error",
     "traceback": [
      "\u001b[1;31m---------------------------------------------------------------------------\u001b[0m",
      "\u001b[1;31mValueError\u001b[0m                                Traceback (most recent call last)",
      "Input \u001b[1;32mIn [9]\u001b[0m, in \u001b[0;36m<cell line: 27>\u001b[1;34m()\u001b[0m\n\u001b[0;32m     24\u001b[0m get_ipython()\u001b[38;5;241m.\u001b[39mrun_line_magic(\u001b[38;5;124m'\u001b[39m\u001b[38;5;124mload_ext\u001b[39m\u001b[38;5;124m'\u001b[39m, \u001b[38;5;124m'\u001b[39m\u001b[38;5;124mautoreload\u001b[39m\u001b[38;5;124m'\u001b[39m)\n\u001b[0;32m     25\u001b[0m get_ipython()\u001b[38;5;241m.\u001b[39mrun_line_magic(\u001b[38;5;124m'\u001b[39m\u001b[38;5;124mautoreload\u001b[39m\u001b[38;5;124m'\u001b[39m, \u001b[38;5;124m'\u001b[39m\u001b[38;5;124m2\u001b[39m\u001b[38;5;124m'\u001b[39m)\n\u001b[1;32m---> 27\u001b[0m \u001b[43mnp\u001b[49m\u001b[38;5;241;43m.\u001b[39;49m\u001b[43mset_printoptions\u001b[49m\u001b[43m(\u001b[49m\u001b[43mthreshold\u001b[49m\u001b[38;5;241;43m=\u001b[39;49m\u001b[43mnp\u001b[49m\u001b[38;5;241;43m.\u001b[39;49m\u001b[43mnan\u001b[49m\u001b[43m)\u001b[49m\n\u001b[0;32m     29\u001b[0m FRmodel \u001b[38;5;241m=\u001b[39m faceRecoModel(input_shape\u001b[38;5;241m=\u001b[39m(\u001b[38;5;241m3\u001b[39m, \u001b[38;5;241m96\u001b[39m, \u001b[38;5;241m96\u001b[39m))\n\u001b[0;32m     30\u001b[0m \u001b[38;5;28mprint\u001b[39m(\u001b[38;5;124m\"\u001b[39m\u001b[38;5;124mTotal Params:\u001b[39m\u001b[38;5;124m\"\u001b[39m, FRmodel\u001b[38;5;241m.\u001b[39mcount_params())\n",
      "File \u001b[1;32m~\\Anaconda3\\envs\\env_deeplearning\\lib\\site-packages\\numpy\\core\\arrayprint.py:277\u001b[0m, in \u001b[0;36mset_printoptions\u001b[1;34m(precision, threshold, edgeitems, linewidth, suppress, nanstr, infstr, formatter, sign, floatmode, legacy)\u001b[0m\n\u001b[0;32m    116\u001b[0m \u001b[38;5;129m@set_module\u001b[39m(\u001b[38;5;124m'\u001b[39m\u001b[38;5;124mnumpy\u001b[39m\u001b[38;5;124m'\u001b[39m)\n\u001b[0;32m    117\u001b[0m \u001b[38;5;28;01mdef\u001b[39;00m \u001b[38;5;21mset_printoptions\u001b[39m(precision\u001b[38;5;241m=\u001b[39m\u001b[38;5;28;01mNone\u001b[39;00m, threshold\u001b[38;5;241m=\u001b[39m\u001b[38;5;28;01mNone\u001b[39;00m, edgeitems\u001b[38;5;241m=\u001b[39m\u001b[38;5;28;01mNone\u001b[39;00m,\n\u001b[0;32m    118\u001b[0m                      linewidth\u001b[38;5;241m=\u001b[39m\u001b[38;5;28;01mNone\u001b[39;00m, suppress\u001b[38;5;241m=\u001b[39m\u001b[38;5;28;01mNone\u001b[39;00m, nanstr\u001b[38;5;241m=\u001b[39m\u001b[38;5;28;01mNone\u001b[39;00m, infstr\u001b[38;5;241m=\u001b[39m\u001b[38;5;28;01mNone\u001b[39;00m,\n\u001b[0;32m    119\u001b[0m                      formatter\u001b[38;5;241m=\u001b[39m\u001b[38;5;28;01mNone\u001b[39;00m, sign\u001b[38;5;241m=\u001b[39m\u001b[38;5;28;01mNone\u001b[39;00m, floatmode\u001b[38;5;241m=\u001b[39m\u001b[38;5;28;01mNone\u001b[39;00m, \u001b[38;5;241m*\u001b[39m, legacy\u001b[38;5;241m=\u001b[39m\u001b[38;5;28;01mNone\u001b[39;00m):\n\u001b[0;32m    120\u001b[0m     \u001b[38;5;124;03m\"\"\"\u001b[39;00m\n\u001b[0;32m    121\u001b[0m \u001b[38;5;124;03m    Set printing options.\u001b[39;00m\n\u001b[0;32m    122\u001b[0m \n\u001b[1;32m   (...)\u001b[0m\n\u001b[0;32m    275\u001b[0m \n\u001b[0;32m    276\u001b[0m \u001b[38;5;124;03m    \"\"\"\u001b[39;00m\n\u001b[1;32m--> 277\u001b[0m     opt \u001b[38;5;241m=\u001b[39m \u001b[43m_make_options_dict\u001b[49m\u001b[43m(\u001b[49m\u001b[43mprecision\u001b[49m\u001b[43m,\u001b[49m\u001b[43m \u001b[49m\u001b[43mthreshold\u001b[49m\u001b[43m,\u001b[49m\u001b[43m \u001b[49m\u001b[43medgeitems\u001b[49m\u001b[43m,\u001b[49m\u001b[43m \u001b[49m\u001b[43mlinewidth\u001b[49m\u001b[43m,\u001b[49m\n\u001b[0;32m    278\u001b[0m \u001b[43m                             \u001b[49m\u001b[43msuppress\u001b[49m\u001b[43m,\u001b[49m\u001b[43m \u001b[49m\u001b[43mnanstr\u001b[49m\u001b[43m,\u001b[49m\u001b[43m \u001b[49m\u001b[43minfstr\u001b[49m\u001b[43m,\u001b[49m\u001b[43m \u001b[49m\u001b[43msign\u001b[49m\u001b[43m,\u001b[49m\u001b[43m \u001b[49m\u001b[43mformatter\u001b[49m\u001b[43m,\u001b[49m\n\u001b[0;32m    279\u001b[0m \u001b[43m                             \u001b[49m\u001b[43mfloatmode\u001b[49m\u001b[43m,\u001b[49m\u001b[43m \u001b[49m\u001b[43mlegacy\u001b[49m\u001b[43m)\u001b[49m\n\u001b[0;32m    280\u001b[0m     \u001b[38;5;66;03m# formatter is always reset\u001b[39;00m\n\u001b[0;32m    281\u001b[0m     opt[\u001b[38;5;124m'\u001b[39m\u001b[38;5;124mformatter\u001b[39m\u001b[38;5;124m'\u001b[39m] \u001b[38;5;241m=\u001b[39m formatter\n",
      "File \u001b[1;32m~\\Anaconda3\\envs\\env_deeplearning\\lib\\site-packages\\numpy\\core\\arrayprint.py:103\u001b[0m, in \u001b[0;36m_make_options_dict\u001b[1;34m(precision, threshold, edgeitems, linewidth, suppress, nanstr, infstr, sign, formatter, floatmode, legacy)\u001b[0m\n\u001b[0;32m    101\u001b[0m         \u001b[38;5;28;01mraise\u001b[39;00m \u001b[38;5;167;01mTypeError\u001b[39;00m(\u001b[38;5;124m\"\u001b[39m\u001b[38;5;124mthreshold must be numeric\u001b[39m\u001b[38;5;124m\"\u001b[39m)\n\u001b[0;32m    102\u001b[0m     \u001b[38;5;28;01mif\u001b[39;00m np\u001b[38;5;241m.\u001b[39misnan(threshold):\n\u001b[1;32m--> 103\u001b[0m         \u001b[38;5;28;01mraise\u001b[39;00m \u001b[38;5;167;01mValueError\u001b[39;00m(\u001b[38;5;124m\"\u001b[39m\u001b[38;5;124mthreshold must be non-NAN, try \u001b[39m\u001b[38;5;124m\"\u001b[39m\n\u001b[0;32m    104\u001b[0m                          \u001b[38;5;124m\"\u001b[39m\u001b[38;5;124msys.maxsize for untruncated representation\u001b[39m\u001b[38;5;124m\"\u001b[39m)\n\u001b[0;32m    106\u001b[0m \u001b[38;5;28;01mif\u001b[39;00m precision \u001b[38;5;129;01mis\u001b[39;00m \u001b[38;5;129;01mnot\u001b[39;00m \u001b[38;5;28;01mNone\u001b[39;00m:\n\u001b[0;32m    107\u001b[0m     \u001b[38;5;66;03m# forbid the bad precision arg as suggested by issue #18254\u001b[39;00m\n\u001b[0;32m    108\u001b[0m     \u001b[38;5;28;01mtry\u001b[39;00m:\n",
      "\u001b[1;31mValueError\u001b[0m: threshold must be non-NAN, try sys.maxsize for untruncated representation"
     ]
    }
   ],
   "source": [
    "from keras.models import Sequential\n",
    "from keras.layers import Conv2D, ZeroPadding2D, Activation, Input, concatenate\n",
    "from keras.models import Model\n",
    "from tensorflow.keras.layers import BatchNormalization\n",
    "from keras.layers.pooling import MaxPooling2D, AveragePooling2D\n",
    "from keras.layers.merge import Concatenate\n",
    "from keras.layers.core import Lambda, Flatten, Dense\n",
    "from keras.initializers import glorot_uniform\n",
    "from tensorflow.keras.layers import Layer\n",
    "from keras import backend as K\n",
    "K.set_image_data_format('channels_first')\n",
    "import cv2\n",
    "import os\n",
    "import numpy as np\n",
    "from numpy import genfromtxt\n",
    "import pandas as pd\n",
    "import tensorflow as tf\n",
    "# from fr_utils import *\n",
    "# from inception_blocks_v2 import *\n",
    "\n",
    "\n",
    "\n",
    "%matplotlib inline\n",
    "%load_ext autoreload\n",
    "%autoreload 2\n",
    "\n",
    "np.set_printoptions(threshold=np.nan)\n",
    "\n",
    "FRmodel = faceRecoModel(input_shape=(3, 96, 96))\n",
    "print(\"Total Params:\", FRmodel.count_params())\n",
    "\n",
    "print(\"OK\")"
   ]
  },
  {
   "cell_type": "code",
   "execution_count": 8,
   "id": "15d17785",
   "metadata": {},
   "outputs": [
    {
     "ename": "OSError",
     "evalue": "[WinError 182] Le système d’exploitation ne peut pas exécuter %1. Error loading \"C:\\Users\\yabakar\\Anaconda3\\envs\\env_deeplearning\\lib\\site-packages\\torch\\lib\\shm.dll\" or one of its dependencies.",
     "output_type": "error",
     "traceback": [
      "\u001b[1;31m---------------------------------------------------------------------------\u001b[0m",
      "\u001b[1;31mOSError\u001b[0m                                   Traceback (most recent call last)",
      "Input \u001b[1;32mIn [8]\u001b[0m, in \u001b[0;36m<cell line: 4>\u001b[1;34m()\u001b[0m\n\u001b[0;32m      2\u001b[0m \u001b[38;5;28;01mfrom\u001b[39;00m \u001b[38;5;21;01mos\u001b[39;00m\u001b[38;5;21;01m.\u001b[39;00m\u001b[38;5;21;01mpath\u001b[39;00m \u001b[38;5;28;01mimport\u001b[39;00m join\n\u001b[0;32m      3\u001b[0m \u001b[38;5;28;01mimport\u001b[39;00m \u001b[38;5;21;01mos\u001b[39;00m\n\u001b[1;32m----> 4\u001b[0m \u001b[38;5;28;01mimport\u001b[39;00m \u001b[38;5;21;01mtorch\u001b[39;00m\u001b[38;5;21;01m.\u001b[39;00m\u001b[38;5;21;01mutils\u001b[39;00m\u001b[38;5;21;01m.\u001b[39;00m\u001b[38;5;21;01mdata\u001b[39;00m \u001b[38;5;28;01mas\u001b[39;00m \u001b[38;5;21;01mdata\u001b[39;00m\n\u001b[0;32m      5\u001b[0m \u001b[38;5;28;01mfrom\u001b[39;00m \u001b[38;5;21;01m.\u001b[39;00m\u001b[38;5;21;01mutils\u001b[39;00m \u001b[38;5;28;01mimport\u001b[39;00m download_url, check_integrity, list_dir, list_files\n\u001b[0;32m      8\u001b[0m \u001b[38;5;28;01mclass\u001b[39;00m \u001b[38;5;21;01mOmniglot\u001b[39;00m(data\u001b[38;5;241m.\u001b[39mDataset):\n",
      "File \u001b[1;32m<frozen importlib._bootstrap>:1027\u001b[0m, in \u001b[0;36m_find_and_load\u001b[1;34m(name, import_)\u001b[0m\n",
      "File \u001b[1;32m<frozen importlib._bootstrap>:1006\u001b[0m, in \u001b[0;36m_find_and_load_unlocked\u001b[1;34m(name, import_)\u001b[0m\n",
      "File \u001b[1;32m<frozen importlib._bootstrap>:672\u001b[0m, in \u001b[0;36m_load_unlocked\u001b[1;34m(spec)\u001b[0m\n",
      "File \u001b[1;32m<frozen importlib._bootstrap>:632\u001b[0m, in \u001b[0;36m_load_backward_compatible\u001b[1;34m(spec)\u001b[0m\n",
      "File \u001b[1;32m~\\Anaconda3\\envs\\env_deeplearning\\lib\\site-packages\\wandb\\sdk\\lib\\import_hooks.py:195\u001b[0m, in \u001b[0;36m_ImportHookChainedLoader.load_module\u001b[1;34m(self, fullname)\u001b[0m\n\u001b[0;32m    194\u001b[0m \u001b[38;5;28;01mdef\u001b[39;00m \u001b[38;5;21mload_module\u001b[39m(\u001b[38;5;28mself\u001b[39m, fullname: \u001b[38;5;28mstr\u001b[39m) \u001b[38;5;241m-\u001b[39m\u001b[38;5;241m>\u001b[39m Any:\n\u001b[1;32m--> 195\u001b[0m     module \u001b[38;5;241m=\u001b[39m \u001b[38;5;28;43mself\u001b[39;49m\u001b[38;5;241;43m.\u001b[39;49m\u001b[43mloader\u001b[49m\u001b[38;5;241;43m.\u001b[39;49m\u001b[43mload_module\u001b[49m\u001b[43m(\u001b[49m\u001b[43mfullname\u001b[49m\u001b[43m)\u001b[49m\n\u001b[0;32m    196\u001b[0m     notify_module_loaded(module)\n\u001b[0;32m    198\u001b[0m     \u001b[38;5;28;01mreturn\u001b[39;00m module\n",
      "File \u001b[1;32m~\\Anaconda3\\envs\\env_deeplearning\\lib\\site-packages\\torch\\__init__.py:129\u001b[0m, in \u001b[0;36m<module>\u001b[1;34m\u001b[0m\n\u001b[0;32m    127\u001b[0m     err \u001b[38;5;241m=\u001b[39m ctypes\u001b[38;5;241m.\u001b[39mWinError(last_error)\n\u001b[0;32m    128\u001b[0m     err\u001b[38;5;241m.\u001b[39mstrerror \u001b[38;5;241m+\u001b[39m\u001b[38;5;241m=\u001b[39m \u001b[38;5;124mf\u001b[39m\u001b[38;5;124m'\u001b[39m\u001b[38;5;124m Error loading \u001b[39m\u001b[38;5;124m\"\u001b[39m\u001b[38;5;132;01m{\u001b[39;00mdll\u001b[38;5;132;01m}\u001b[39;00m\u001b[38;5;124m\"\u001b[39m\u001b[38;5;124m or one of its dependencies.\u001b[39m\u001b[38;5;124m'\u001b[39m\n\u001b[1;32m--> 129\u001b[0m     \u001b[38;5;28;01mraise\u001b[39;00m err\n\u001b[0;32m    130\u001b[0m \u001b[38;5;28;01melif\u001b[39;00m res \u001b[38;5;129;01mis\u001b[39;00m \u001b[38;5;129;01mnot\u001b[39;00m \u001b[38;5;28;01mNone\u001b[39;00m:\n\u001b[0;32m    131\u001b[0m     is_loaded \u001b[38;5;241m=\u001b[39m \u001b[38;5;28;01mTrue\u001b[39;00m\n",
      "\u001b[1;31mOSError\u001b[0m: [WinError 182] Le système d’exploitation ne peut pas exécuter %1. Error loading \"C:\\Users\\yabakar\\Anaconda3\\envs\\env_deeplearning\\lib\\site-packages\\torch\\lib\\shm.dll\" or one of its dependencies."
     ]
    }
   ],
   "source": [
    "from PIL import Image\n",
    "from os.path import join\n",
    "import os\n",
    "import torch.utils.data as data\n",
    "from .utils import download_url, check_integrity, list_dir, list_files\n",
    "\n",
    "\n",
    "class Omniglot(data.Dataset):\n",
    "    \"\"\"`Omniglot <https://github.com/brendenlake/omniglot>`_ Dataset.\n",
    "    Args:\n",
    "        root (string): Root directory of dataset where directory\n",
    "            ``omniglot-py`` exists.\n",
    "        background (bool, optional): If True, creates dataset from the \"background\" set, otherwise\n",
    "            creates from the \"evaluation\" set. This terminology is defined by the authors.\n",
    "        transform (callable, optional): A function/transform that  takes in an PIL image\n",
    "            and returns a transformed version. E.g, ``transforms.RandomCrop``\n",
    "        target_transform (callable, optional): A function/transform that takes in the\n",
    "            target and transforms it.\n",
    "        download (bool, optional): If true, downloads the dataset zip files from the internet and\n",
    "            puts it in root directory. If the zip files are already downloaded, they are not\n",
    "            downloaded again.\n",
    "    \"\"\"\n",
    "    folder = 'omniglot-py'\n",
    "    download_url_prefix = 'https://github.com/brendenlake/omniglot/raw/master/python'\n",
    "    zips_md5 = {\n",
    "        'images_background': '68d2efa1b9178cc56df9314c21c6e718',\n",
    "        'images_evaluation': '6b91aef0f799c5bb55b94e3f2daec811'\n",
    "    }\n",
    "\n",
    "    def __init__(self, root, background=True,\n",
    "                 transform=None, target_transform=None,\n",
    "                 download=False):\n",
    "        self.root = join(os.path.expanduser(root), self.folder)\n",
    "        self.background = background\n",
    "        self.transform = transform\n",
    "        self.target_transform = target_transform\n",
    "\n",
    "        if download:\n",
    "            self.download()\n",
    "\n",
    "        if not self._check_integrity():\n",
    "            raise RuntimeError('Dataset not found or corrupted.' +\n",
    "                               ' You can use download=True to download it')\n",
    "\n",
    "        self.target_folder = join(self.root, self._get_target_folder())\n",
    "        self._alphabets = list_dir(self.target_folder)\n",
    "        self._characters = sum([[join(a, c) for c in list_dir(join(self.target_folder, a))]\n",
    "                                for a in self._alphabets], [])\n",
    "        self._character_images = [[(image, idx) for image in list_files(join(self.target_folder, character), '.png')]\n",
    "                                  for idx, character in enumerate(self._characters)]\n",
    "        self._flat_character_images = sum(self._character_images, [])\n",
    "\n",
    "    def __len__(self):\n",
    "        return len(self._flat_character_images)\n",
    "\n",
    "    def __getitem__(self, index):\n",
    "        \"\"\"\n",
    "        Args:\n",
    "            index (int): Index\n",
    "        Returns:\n",
    "            tuple: (image, target) where target is index of the target character class.\n",
    "        \"\"\"\n",
    "        image_name, character_class = self._flat_character_images[index]\n",
    "        image_path = join(self.target_folder, self._characters[character_class], image_name)\n",
    "        image = Image.open(image_path, mode='r').convert('L')\n",
    "\n",
    "        if self.transform:\n",
    "            image = self.transform(image)\n",
    "\n",
    "        if self.target_transform:\n",
    "            character_class = self.target_transform(character_class)\n",
    "\n",
    "        return image, character_class\n",
    "\n",
    "    def _check_integrity(self):\n",
    "        zip_filename = self._get_target_folder()\n",
    "        if not check_integrity(join(self.root, zip_filename + '.zip'), self.zips_md5[zip_filename]):\n",
    "            return False\n",
    "        return True\n",
    "\n",
    "    def download(self):\n",
    "        import zipfile\n",
    "\n",
    "        if self._check_integrity():\n",
    "            print('Files already downloaded and verified')\n",
    "            return\n",
    "\n",
    "        filename = self._get_target_folder()\n",
    "        zip_filename = filename + '.zip'\n",
    "        url = self.download_url_prefix + '/' + zip_filename\n",
    "        download_url(url, self.root, zip_filename, self.zips_md5[filename])\n",
    "        print('Extracting downloaded file: ' + join(self.root, zip_filename))\n",
    "        with zipfile.ZipFile(join(self.root, zip_filename), 'r') as zip_file:\n",
    "            zip_file.extractall(self.root)\n",
    "\n",
    "    def _get_target_folder(self):\n",
    "        return 'images_background' if self.background else 'images_evaluation'\n",
    "\n",
    "\n",
    "def loadimgs(path,n = 0):\n",
    "    '''\n",
    "    path => Path of train directory or test directory\n",
    "    '''\n",
    "    X=[]\n",
    "    y = []\n",
    "    cat_dict = {}\n",
    "    lang_dict = {}\n",
    "    curr_y = n\n",
    "    \n",
    "    # we load every alphabet seperately so we can isolate them later\n",
    "    for alphabet in os.listdir(path):\n",
    "        print(\"loading alphabet: \" + alphabet)\n",
    "        lang_dict[alphabet] = [curr_y,None]\n",
    "        alphabet_path = os.path.join(path,alphabet)\n",
    "        \n",
    "        # every letter/category has it's own column in the array, so  load seperately\n",
    "        for letter in os.listdir(alphabet_path):\n",
    "            cat_dict[curr_y] = (alphabet, letter)\n",
    "            category_images=[]\n",
    "            letter_path = os.path.join(alphabet_path, letter)\n",
    "            \n",
    "            # read all the images in the current category\n",
    "            for filename in os.listdir(letter_path):\n",
    "                image_path = os.path.join(letter_path, filename)\n",
    "                image = imread(image_path)\n",
    "                category_images.append(image)\n",
    "                y.append(curr_y)\n",
    "            try:\n",
    "                X.append(np.stack(category_images))\n",
    "            # edge case  - last one\n",
    "            except ValueError as e:\n",
    "                print(e)\n",
    "                print(\"error - category_images:\", category_images)\n",
    "            curr_y += 1\n",
    "            lang_dict[alphabet][1] = curr_y - 1\n",
    "    y = np.vstack(y)\n",
    "    X = np.stack(X)\n",
    "    return X,y,lang_dict\n",
    "\n",
    "def get_batch(batch_size,s=\"train\"):\n",
    "    \"\"\"\n",
    "    Create batch of n pairs, half same class, half different class\n",
    "    \"\"\"\n",
    "    if s == 'train':\n",
    "        X = Xtrain\n",
    "        categories = train_classes\n",
    "    else:\n",
    "        X = Xval\n",
    "        categories = val_classes\n",
    "    n_classes, n_examples, w, h = X.shape\n",
    "    \n",
    "    # randomly sample several classes to use in the batch\n",
    "    categories = rng.choice(n_classes,size=(batch_size,),replace=False)\n",
    "    \n",
    "    # initialize 2 empty arrays for the input image batch\n",
    "    pairs=[np.zeros((batch_size, h, w,1)) for i in range(2)]\n",
    "    \n",
    "    # initialize vector for the targets\n",
    "    targets=np.zeros((batch_size,))\n",
    "    \n",
    "    # make one half of it '1's, so 2nd half of batch has same class\n",
    "    targets[batch_size//2:] = 1\n",
    "    for i in range(batch_size):\n",
    "        category = categories[i]\n",
    "        idx_1 = rng.randint(0, n_examples)\n",
    "        pairs[0][i,:,:,:] = X[category, idx_1].reshape(w, h, 1)\n",
    "        idx_2 = rng.randint(0, n_examples)\n",
    "        \n",
    "        # pick images of same class for 1st half, different for 2nd\n",
    "        if i >= batch_size // 2:\n",
    "            category_2 = category  \n",
    "        else: \n",
    "            # add a random number to the category modulo n classes to ensure 2nd image has a different category\n",
    "            category_2 = (category + rng.randint(1,n_classes)) % n_classes\n",
    "        \n",
    "        pairs[1][i,:,:,:] = X[category_2,idx_2].reshape(w, h,1)\n",
    "    \n",
    "return pairs, targets"
   ]
  },
  {
   "cell_type": "code",
   "execution_count": 6,
   "id": "65ad5a74",
   "metadata": {},
   "outputs": [
    {
     "name": "stdout",
     "output_type": "stream",
     "text": [
      "Model: \"model\"\n",
      "__________________________________________________________________________________________________\n",
      " Layer (type)                   Output Shape         Param #     Connected to                     \n",
      "==================================================================================================\n",
      " flatten_input (InputLayer)     [(None, 28, 28)]     0           []                               \n",
      "                                                                                                  \n",
      " flatten_1_input (InputLayer)   [(None, 28, 28)]     0           []                               \n",
      "                                                                                                  \n",
      " flatten (Flatten)              (None, 784)          0           ['flatten_input[0][0]']          \n",
      "                                                                                                  \n",
      " flatten_1 (Flatten)            (None, 784)          0           ['flatten_1_input[0][0]']        \n",
      "                                                                                                  \n",
      " dense (Dense)                  (None, 128)          100480      ['flatten[0][0]']                \n",
      "                                                                                                  \n",
      " dense_1 (Dense)                (None, 128)          100480      ['flatten_1[0][0]']              \n",
      "                                                                                                  \n",
      " concatenate (Concatenate)      (None, 256)          0           ['dense[0][0]',                  \n",
      "                                                                  'dense_1[0][0]']                \n",
      "                                                                                                  \n",
      " dense_2 (Dense)                (None, 1)            257         ['concatenate[0][0]']            \n",
      "                                                                                                  \n",
      "==================================================================================================\n",
      "Total params: 201,217\n",
      "Trainable params: 201,217\n",
      "Non-trainable params: 0\n",
      "__________________________________________________________________________________________________\n"
     ]
    },
    {
     "data": {
      "text/html": [
       "Finishing last run (ID:bew3x6mu) before initializing another..."
      ],
      "text/plain": [
       "<IPython.core.display.HTML object>"
      ]
     },
     "metadata": {},
     "output_type": "display_data"
    },
    {
     "data": {
      "text/html": [
       "Waiting for W&B process to finish... <strong style=\"color:green\">(success).</strong>"
      ],
      "text/plain": [
       "<IPython.core.display.HTML object>"
      ]
     },
     "metadata": {},
     "output_type": "display_data"
    },
    {
     "data": {
      "application/vnd.jupyter.widget-view+json": {
       "model_id": "",
       "version_major": 2,
       "version_minor": 0
      },
      "text/plain": [
       "VBox(children=(Label(value='0.002 MB of 0.002 MB uploaded (0.000 MB deduped)\\r'), FloatProgress(value=1.0, max…"
      ]
     },
     "metadata": {},
     "output_type": "display_data"
    },
    {
     "data": {
      "text/html": [
       "<style>\n",
       "    table.wandb td:nth-child(1) { padding: 0 10px; text-align: left ; width: auto;} td:nth-child(2) {text-align: left ; width: 100%}\n",
       "    .wandb-row { display: flex; flex-direction: row; flex-wrap: wrap; justify-content: flex-start; width: 100% }\n",
       "    .wandb-col { display: flex; flex-direction: column; flex-basis: 100%; flex: 1; padding: 10px; }\n",
       "    </style>\n",
       "<div class=\"wandb-row\"><div class=\"wandb-col\"><h3>Run history:</h3><br/><table class=\"wandb\"><tr><td>accuracy</td><td>▁▂▂▃▄▅▆▆██</td></tr><tr><td>epoch</td><td>▁▂▃▃▄▅▆▆▇█</td></tr><tr><td>loss</td><td>█▆▆▆▅▅▄▃▂▁</td></tr></table><br/></div><div class=\"wandb-col\"><h3>Run summary:</h3><br/><table class=\"wandb\"><tr><td>GFLOPs</td><td>0.0002</td></tr><tr><td>accuracy</td><td>0.52511</td></tr><tr><td>epoch</td><td>9</td></tr><tr><td>loss</td><td>0.68926</td></tr></table><br/></div></div>"
      ],
      "text/plain": [
       "<IPython.core.display.HTML object>"
      ]
     },
     "metadata": {},
     "output_type": "display_data"
    },
    {
     "data": {
      "text/html": [
       "Synced <strong style=\"color:#cdcd00\">daily-rain-3</strong>: <a href=\"https://wandb.ai/youssouf10/siamese/runs/bew3x6mu\" target=\"_blank\">https://wandb.ai/youssouf10/siamese/runs/bew3x6mu</a><br/>Synced 6 W&B file(s), 1 media file(s), 0 artifact file(s) and 0 other file(s)"
      ],
      "text/plain": [
       "<IPython.core.display.HTML object>"
      ]
     },
     "metadata": {},
     "output_type": "display_data"
    },
    {
     "data": {
      "text/html": [
       "Find logs at: <code>.\\wandb\\run-20220825_122009-bew3x6mu\\logs</code>"
      ],
      "text/plain": [
       "<IPython.core.display.HTML object>"
      ]
     },
     "metadata": {},
     "output_type": "display_data"
    },
    {
     "data": {
      "text/html": [
       "Successfully finished last run (ID:bew3x6mu). Initializing new run:<br/>"
      ],
      "text/plain": [
       "<IPython.core.display.HTML object>"
      ]
     },
     "metadata": {},
     "output_type": "display_data"
    },
    {
     "data": {
      "text/html": [
       "Tracking run with wandb version 0.13.2"
      ],
      "text/plain": [
       "<IPython.core.display.HTML object>"
      ]
     },
     "metadata": {},
     "output_type": "display_data"
    },
    {
     "data": {
      "text/html": [
       "Run data is saved locally in <code>C:\\Users\\yabakar\\Documents\\ImageClassifier\\wandb\\run-20220825_122414-15rh2khm</code>"
      ],
      "text/plain": [
       "<IPython.core.display.HTML object>"
      ]
     },
     "metadata": {},
     "output_type": "display_data"
    },
    {
     "data": {
      "text/html": [
       "Syncing run <strong><a href=\"https://wandb.ai/youssouf10/siamese/runs/15rh2khm\" target=\"_blank\">different-wave-4</a></strong> to <a href=\"https://wandb.ai/youssouf10/siamese\" target=\"_blank\">Weights & Biases</a> (<a href=\"https://wandb.me/run\" target=\"_blank\">docs</a>)<br/>"
      ],
      "text/plain": [
       "<IPython.core.display.HTML object>"
      ]
     },
     "metadata": {},
     "output_type": "display_data"
    },
    {
     "name": "stdout",
     "output_type": "stream",
     "text": [
      "Epoch 1/10\n",
      "   1/7500 [..............................] - ETA: 59:44 - loss: 0.7100 - accuracy: 0.5625WARNING:tensorflow:Callback method `on_train_batch_end` is slow compared to the batch time (batch time: 0.0012s vs `on_train_batch_end` time: 0.0018s). Check your callbacks.\n",
      "7500/7500 [==============================] - 25s 3ms/step - loss: 0.6945 - accuracy: 0.5030\n",
      "Epoch 2/10\n",
      "7500/7500 [==============================] - 22s 3ms/step - loss: 0.6934 - accuracy: 0.5039\n",
      "Epoch 3/10\n",
      "7500/7500 [==============================] - 22s 3ms/step - loss: 0.6931 - accuracy: 0.5065\n",
      "Epoch 4/10\n",
      "7500/7500 [==============================] - 20s 3ms/step - loss: 0.6927 - accuracy: 0.5076\n",
      "Epoch 5/10\n",
      "7500/7500 [==============================] - 22s 3ms/step - loss: 0.6923 - accuracy: 0.5122\n",
      "Epoch 6/10\n",
      "7500/7500 [==============================] - 21s 3ms/step - loss: 0.6917 - accuracy: 0.5143\n",
      "Epoch 7/10\n",
      "7500/7500 [==============================] - 23s 3ms/step - loss: 0.6910 - accuracy: 0.5157\n",
      "Epoch 8/10\n",
      "7500/7500 [==============================] - 22s 3ms/step - loss: 0.6905 - accuracy: 0.5144\n",
      "Epoch 9/10\n",
      "7500/7500 [==============================] - 21s 3ms/step - loss: 0.6899 - accuracy: 0.5174\n",
      "Epoch 10/10\n",
      "7500/7500 [==============================] - 25s 3ms/step - loss: 0.6890 - accuracy: 0.5205\n",
      "OK\n"
     ]
    }
   ],
   "source": [
    "import random\n",
    "import numpy as np\n",
    "import keras\n",
    "import wandb\n",
    "from wandb.keras import WandbCallback\n",
    "from keras.models import Sequential, Model\n",
    "from keras.layers import Flatten, Dense, Concatenate, Dot, Lambda, Input\n",
    "from keras.datasets import mnist\n",
    "from tensorflow.keras.optimizers import Adam\n",
    "import matplotlib.pyplot as plt\n",
    "\n",
    "\n",
    "\n",
    "       # load data\n",
    "\n",
    "(x_train, y_train), (x_test, y_test) = mnist.load_data()\n",
    "x_train = x_train.astype('float32')\n",
    "x_test = x_test.astype('float32')\n",
    "x_train /= 255\n",
    "x_test /= 255\n",
    "\n",
    "\n",
    "\n",
    "\n",
    "       # make pairs\n",
    "def make_pairs(x, y):\n",
    "    num_classes = max(y) + 1\n",
    "    digit_indices = [np.where(y == i)[0] for i in range(num_classes)]\n",
    "\n",
    "    pairs = []\n",
    "    labels = []\n",
    "\n",
    "    for idx1 in range(len(x)):\n",
    "        # add a matching example\n",
    "        x1 = x[idx1]\n",
    "        label1 = y[idx1]\n",
    "        idx2 = random.choice(digit_indices[label1])\n",
    "        x2 = x[idx2]\n",
    "        \n",
    "        pairs += [[x1, x2]]\n",
    "        labels += [1]\n",
    "    \n",
    "        # add a not matching example\n",
    "        label2 = random.randint(0, num_classes-1)\n",
    "        while label2 == label1:\n",
    "            label2 = random.randint(0, num_classes-1)\n",
    "\n",
    "        idx2 = random.choice(digit_indices[label2])\n",
    "        x2 = x[idx2]\n",
    "        \n",
    "        pairs += [[x1, x2]]\n",
    "        labels += [0]\n",
    "\n",
    "    return np.array(pairs), np.array(labels)\n",
    "\n",
    "pairs_train, labels_train = make_pairs(x_train, y_train)\n",
    "pairs_test, labels_test = make_pairs(x_test, y_test)\n",
    "\n",
    "\n",
    "\n",
    "\n",
    "       # take a peek at the data\n",
    "# plt.imshow(pairs_train[400,1])\n",
    "# print(labels_train[4])\n",
    "\n",
    "\n",
    "\n",
    "       # Weights not shared\n",
    "\n",
    "seq1 = Sequential()\n",
    "seq1.add(Flatten(input_shape=(28,28)))\n",
    "seq1.add(Dense(128, activation='relu'))\n",
    "\n",
    "seq2 = Sequential()\n",
    "seq2.add(Flatten(input_shape=(28,28)))\n",
    "seq2.add(Dense(128, activation='relu'))\n",
    "\n",
    "merge_layer = Concatenate()([seq1.output, seq2.output])\n",
    "dense_layer = Dense(1, activation=\"sigmoid\")(merge_layer)\n",
    "model = Model(inputs=[seq1.input, seq2.input], outputs=dense_layer)\n",
    "\n",
    "\n",
    "\n",
    "\n",
    "model.compile(loss = \"binary_crossentropy\", optimizer=\"adam\", metrics=[\"accuracy\"])\n",
    "model.summary()\n",
    "\n",
    "\n",
    "\n",
    "\n",
    "\n",
    "wandb.init(project=\"siamese\")\n",
    "model.fit([pairs_train[:,0], pairs_train[:,1]], labels_train[:], batch_size=16, epochs= 10, callbacks=[WandbCallback()])\n",
    "\n",
    "\n",
    "\n",
    "\n",
    "\n",
    "\n",
    "print(\"OK\")"
   ]
  },
  {
   "cell_type": "code",
   "execution_count": null,
   "id": "46429991",
   "metadata": {},
   "outputs": [],
   "source": []
  },
  {
   "cell_type": "code",
   "execution_count": null,
   "id": "34545de0",
   "metadata": {},
   "outputs": [],
   "source": []
  },
  {
   "cell_type": "code",
   "execution_count": null,
   "id": "d62f0d7a",
   "metadata": {},
   "outputs": [],
   "source": []
  }
 ],
 "metadata": {
  "kernelspec": {
   "display_name": "Python 3 (ipykernel)",
   "language": "python",
   "name": "python3"
  },
  "language_info": {
   "codemirror_mode": {
    "name": "ipython",
    "version": 3
   },
   "file_extension": ".py",
   "mimetype": "text/x-python",
   "name": "python",
   "nbconvert_exporter": "python",
   "pygments_lexer": "ipython3",
   "version": "3.10.4"
  }
 },
 "nbformat": 4,
 "nbformat_minor": 5
}
